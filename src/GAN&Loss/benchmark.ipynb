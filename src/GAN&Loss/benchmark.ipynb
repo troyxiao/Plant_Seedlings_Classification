{
 "cells": [
  {
   "cell_type": "code",
   "execution_count": 1,
   "metadata": {},
   "outputs": [],
   "source": [
    "%matplotlib inline\n",
    "import datetime as dt\n",
    "import matplotlib.pyplot as plt\n",
    "plt.rcParams['figure.figsize'] = [16, 10]\n",
    "plt.rcParams['font.size'] = 16\n",
    "import numpy as np\n",
    "import os\n",
    "import pandas as pd\n",
    "import seaborn as sns\n",
    "from sklearn.linear_model import LogisticRegression\n",
    "from sklearn.metrics import accuracy_score, confusion_matrix\n",
    "from tqdm import tqdm"
   ]
  },
  {
   "cell_type": "code",
   "execution_count": 7,
   "metadata": {},
   "outputs": [],
   "source": [
    "CATEGORIES = ['Black-grass', 'Charlock', 'Cleavers', 'Common Chickweed', 'Common wheat', 'Fat Hen', 'Loose Silky-bent',\n",
    "              'Maize', 'Scentless Mayweed', 'Shepherds Purse', 'Small-flowered Cranesbill', 'Sugar beet']\n",
    "NUM_CATEGORIES = len(CATEGORIES)\n",
    "\n",
    "SEED = 1987\n",
    "data_dir = 'seeds'\n",
    "train_dir = os.path.join(data_dir, 'train')\n",
    "test_dir = os.path.join(data_dir, 'test')\n",
    "sample_submission = pd.read_csv(os.path.join(data_dir, 'sample_submission.csv'))"
   ]
  },
  {
   "cell_type": "code",
   "execution_count": 3,
   "metadata": {},
   "outputs": [],
   "source": [
    "# import glob\n",
    "# from PIL import Image\n",
    "\n",
    "# # train_paths = glob.glob(train_dir + '/*/*')\n",
    "# # print(len(train_paths))\n",
    "\n",
    "# test_paths = glob.glob(test_dir + '/*')\n",
    "# print(len(test_paths))\n",
    "\n",
    "# sizes = []\n",
    "# for x in test_paths:\n",
    "#     sizes.append(Image.open(x).convert('RGB').size)\n",
    "    \n",
    "# # ratios = [x[0]*1.0/x[1] for x in sizes]\n",
    "# sizes.sort(key=lambda x: x[0] * x[1])\n",
    "# for x in sizes[:5]:\n",
    "#     print(x)\n",
    "# for x in sizes[-5:]:\n",
    "#     print(x)\n",
    "\n",
    "# COUNT_SIZES = [0, 64, 96, 128, 160, 192, 224, 256, 512, 1024, 2048, 4096]\n",
    "# buckets = {x: [] for x in COUNT_SIZES}\n",
    "\n",
    "# for size in sizes:\n",
    "#     w,h = size\n",
    "#     for i in range(len(COUNT_SIZES) - 1):\n",
    "#         if COUNT_SIZES[i] <= max(w,h) < COUNT_SIZES[i+1]:\n",
    "#             buckets[COUNT_SIZES[i]].append(size)\n",
    "\n",
    "# x = COUNT_SIZES\n",
    "# y = [len(buckets[x]) for x in buckets]\n",
    "\n",
    "# ind = np.arange(len(COUNT_SIZES))  # the x locations for the groups\n",
    "# fig, ax = plt.subplots(figsize=(20,6))\n",
    "# rect = ax.bar(ind, y)\n",
    "# ax.set_xticks(ind)\n",
    "# ax.set_xticklabels(COUNT_SIZES)\n",
    "    \n",
    "# plt.show()\n",
    "\n",
    "# s = 0\n",
    "# n = len(sizes)\n",
    "# for i in range(len(COUNT_SIZES) - 1):\n",
    "#     print(\"[{}, {})\\t{:.2f}%\".format(COUNT_SIZES[i], COUNT_SIZES[i+1], (s+len(buckets[COUNT_SIZES[i]]))*100.0/n))"
   ]
  },
  {
   "cell_type": "code",
   "execution_count": 8,
   "metadata": {},
   "outputs": [],
   "source": [
    "import glob\n",
    "import random\n",
    "\n",
    "def generate_training_txt():\n",
    "    random.seed(0)\n",
    "\n",
    "    train_data = {}\n",
    "    val_data = {}\n",
    "    n_val = 50\n",
    "    \n",
    "    for cat in CATEGORIES:\n",
    "        x = glob.glob(os.path.join(train_dir, cat) + '/*')\n",
    "        random.shuffle(x)\n",
    "        \n",
    "        train_data[cat] = x[n_val:]\n",
    "        val_data[cat] = x[:n_val]\n",
    "\n",
    "    for data, fname in [(train_data, 'train'),(val_data, 'test')]:\n",
    "        with open(os.path.join(data_dir, '{}.txt'.format(fname)), 'w') as f:\n",
    "            for i,cat in enumerate(CATEGORIES):\n",
    "                for x in data[cat]:\n",
    "                    f.write(\"{}\\t{}\\n\".format(x, cat))\n",
    "                    \n",
    "# generate_training_txt()"
   ]
  },
  {
   "cell_type": "code",
   "execution_count": 9,
   "metadata": {},
   "outputs": [],
   "source": [
    "import sys\n",
    "sys.path.insert(0, '/home/Yi/codes/fast_train_classification/')\n",
    "\n",
    "import os\n",
    "\n",
    "os.environ[\"CUDA_DEVICE_ORDER\"] = \"PCI_BUS_ID\"  # see issue #152\n",
    "os.environ[\"CUDA_VISIBLE_DEVICES\"] = \"2\""
   ]
  },
  {
   "cell_type": "code",
   "execution_count": 10,
   "metadata": {
    "scrolled": false
   },
   "outputs": [
    {
     "ename": "ModuleNotFoundError",
     "evalue": "No module named 'train_clf_net'",
     "output_type": "error",
     "traceback": [
      "\u001b[0;31m---------------------------------------------------------------------------\u001b[0m",
      "\u001b[0;31mModuleNotFoundError\u001b[0m                       Traceback (most recent call last)",
      "\u001b[0;32m<ipython-input-10-bb447fcd4710>\u001b[0m in \u001b[0;36m<module>\u001b[0;34m()\u001b[0m\n\u001b[0;32m----> 1\u001b[0;31m \u001b[0;32mfrom\u001b[0m \u001b[0mtrain_clf_net\u001b[0m \u001b[0;32mimport\u001b[0m \u001b[0minit_net\u001b[0m\u001b[0;34m,\u001b[0m \u001b[0mPathDataset\u001b[0m\u001b[0;34m\u001b[0m\u001b[0;34m\u001b[0m\u001b[0m\n\u001b[0m\u001b[1;32m      2\u001b[0m \u001b[0;34m\u001b[0m\u001b[0m\n\u001b[1;32m      3\u001b[0m \u001b[0mpretrained_weights_path\u001b[0m \u001b[0;34m=\u001b[0m \u001b[0;34m'/home/Yi/seeds/weights/15_0.88.pth'\u001b[0m\u001b[0;34m\u001b[0m\u001b[0;34m\u001b[0m\u001b[0m\n\u001b[1;32m      4\u001b[0m \u001b[0mnet\u001b[0m \u001b[0;34m=\u001b[0m \u001b[0minit_net\u001b[0m\u001b[0;34m(\u001b[0m\u001b[0mpretrained_weights_path\u001b[0m\u001b[0;34m,\u001b[0m \u001b[0mn_classes\u001b[0m\u001b[0;34m=\u001b[0m\u001b[0mlen\u001b[0m\u001b[0;34m(\u001b[0m\u001b[0mCATEGORIES\u001b[0m\u001b[0;34m)\u001b[0m\u001b[0;34m,\u001b[0m \u001b[0mnet_arch\u001b[0m\u001b[0;34m=\u001b[0m\u001b[0;34m'resnet50'\u001b[0m\u001b[0;34m,\u001b[0m\u001b[0mif_strict\u001b[0m\u001b[0;34m=\u001b[0m\u001b[0;32mTrue\u001b[0m\u001b[0;34m,\u001b[0m \u001b[0mif_parallel\u001b[0m\u001b[0;34m=\u001b[0m\u001b[0;32mFalse\u001b[0m\u001b[0;34m)\u001b[0m\u001b[0;34m\u001b[0m\u001b[0;34m\u001b[0m\u001b[0m\n\u001b[1;32m      5\u001b[0m \u001b[0;34m\u001b[0m\u001b[0m\n",
      "\u001b[0;31mModuleNotFoundError\u001b[0m: No module named 'train_clf_net'"
     ]
    }
   ],
   "source": [
    "from train_clf_net import init_net, PathDataset\n",
    "\n",
    "pretrained_weights_path = '/home/Yi/seeds/weights/15_0.88.pth'\n",
    "net = init_net(pretrained_weights_path, n_classes=len(CATEGORIES), net_arch='resnet50',if_strict=True, if_parallel=False)\n",
    "\n",
    "\n",
    "net.eval()"
   ]
  },
  {
   "cell_type": "code",
   "execution_count": 11,
   "metadata": {},
   "outputs": [
    {
     "ename": "NameError",
     "evalue": "name 'PathDataset' is not defined",
     "output_type": "error",
     "traceback": [
      "\u001b[0;31m---------------------------------------------------------------------------\u001b[0m",
      "\u001b[0;31mNameError\u001b[0m                                 Traceback (most recent call last)",
      "\u001b[0;32m<ipython-input-11-ae0c1a4df00d>\u001b[0m in \u001b[0;36m<module>\u001b[0;34m()\u001b[0m\n\u001b[1;32m     13\u001b[0m \u001b[0;34m\u001b[0m\u001b[0m\n\u001b[1;32m     14\u001b[0m \u001b[0mtest_paths\u001b[0m \u001b[0;34m=\u001b[0m \u001b[0mglob\u001b[0m\u001b[0;34m.\u001b[0m\u001b[0mglob\u001b[0m\u001b[0;34m(\u001b[0m\u001b[0mtest_dir\u001b[0m \u001b[0;34m+\u001b[0m \u001b[0;34m'/*'\u001b[0m\u001b[0;34m)\u001b[0m\u001b[0;34m\u001b[0m\u001b[0;34m\u001b[0m\u001b[0m\n\u001b[0;32m---> 15\u001b[0;31m dataset = PathDataset(test_paths, transforms.Compose([\n\u001b[0m\u001b[1;32m     16\u001b[0m \u001b[0;31m#         transforms.Resize((input_size, input_size)),\u001b[0m\u001b[0;34m\u001b[0m\u001b[0;34m\u001b[0m\u001b[0;34m\u001b[0m\u001b[0m\n\u001b[1;32m     17\u001b[0m         \u001b[0mresize_wo_upsample\u001b[0m\u001b[0;34m,\u001b[0m\u001b[0;34m\u001b[0m\u001b[0;34m\u001b[0m\u001b[0m\n",
      "\u001b[0;31mNameError\u001b[0m: name 'PathDataset' is not defined"
     ]
    }
   ],
   "source": [
    "from torchvision import transforms\n",
    "\n",
    "input_size = 224\n",
    "mean = [0.485, 0.456, 0.406]\n",
    "std = [0.229, 0.224, 0.225]\n",
    "    \n",
    "def resize_wo_upsample(pil):\n",
    "    w,h = pil.size\n",
    "    if w > 224 or h > 224:\n",
    "        return transforms.Resize((input_size, input_size))(pil)\n",
    "    \n",
    "    return pil\n",
    "    \n",
    "test_paths = glob.glob(test_dir + '/*')\n",
    "dataset = PathDataset(test_paths, transforms.Compose([\n",
    "#         transforms.Resize((input_size, input_size)),\n",
    "        resize_wo_upsample,\n",
    "        transforms.ToTensor(),\n",
    "        transforms.Normalize(mean, std)\n",
    "    ]))\n",
    "\n",
    "print(len(dataset))"
   ]
  },
  {
   "cell_type": "code",
   "execution_count": 3,
   "metadata": {
    "scrolled": true
   },
   "outputs": [
    {
     "ename": "NameError",
     "evalue": "name 'dataset' is not defined",
     "output_type": "error",
     "traceback": [
      "\u001b[0;31m---------------------------------------------------------------------------\u001b[0m",
      "\u001b[0;31mNameError\u001b[0m                                 Traceback (most recent call last)",
      "\u001b[0;32m<ipython-input-3-8c1c02eef01c>\u001b[0m in \u001b[0;36m<module>\u001b[0;34m()\u001b[0m\n\u001b[1;32m      4\u001b[0m \u001b[0;34m\u001b[0m\u001b[0m\n\u001b[1;32m      5\u001b[0m \u001b[0mpred\u001b[0m \u001b[0;34m=\u001b[0m \u001b[0;32mNone\u001b[0m\u001b[0;34m\u001b[0m\u001b[0m\n\u001b[0;32m----> 6\u001b[0;31m loader = DataLoader(dataset, batch_size=1, shuffle=False,\n\u001b[0m\u001b[1;32m      7\u001b[0m         num_workers=2, pin_memory=True)\n\u001b[1;32m      8\u001b[0m \u001b[0;34m\u001b[0m\u001b[0m\n",
      "\u001b[0;31mNameError\u001b[0m: name 'dataset' is not defined"
     ]
    }
   ],
   "source": [
    "import torch\n",
    "from torch.utils.data import DataLoader\n",
    "import torch.nn.functional as F\n",
    "\n",
    "pred = None\n",
    "loader = DataLoader(dataset, batch_size=1, shuffle=False,\n",
    "        num_workers=2, pin_memory=True)\n",
    "\n",
    "net.eval()\n",
    "for i, inputs in enumerate(loader):\n",
    "    with torch.no_grad():\n",
    "        inputs = inputs.cuda()  # inputs.to(device)\n",
    "#         out = net(inputs)\n",
    "        \n",
    "#         features = net.features(inputs)\n",
    "#         out = F.relu(features, inplace=True)\n",
    "#         n,c,h,w = out.size()\n",
    "#         out = F.avg_pool2d(out, kernel_size=(h,w), stride=1).view(features.size(0), -1)\n",
    "#         out = net.classifier(out)\n",
    "    \n",
    "        x = net.conv1(inputs)\n",
    "        x = net.bn1(x)\n",
    "        x = net.relu(x)\n",
    "        x = net.maxpool(x)\n",
    "\n",
    "        x = net.layer1(x)\n",
    "        x = net.layer2(x)\n",
    "        x = net.layer3(x)\n",
    "        x = net.layer4(x)\n",
    "        n,c,h,w = x.size()\n",
    "        x = F.avg_pool2d(x, kernel_size=(h,w), stride=1).view(x.size(0), -1)\n",
    "        out = net.fc(x)\n",
    "        \n",
    "        if pred is None:\n",
    "            pred = out.data\n",
    "        else:\n",
    "            pred = torch.cat((pred, out), 0)\n",
    "            \n",
    "print(pred)"
   ]
  },
  {
   "cell_type": "code",
   "execution_count": 13,
   "metadata": {},
   "outputs": [
    {
     "name": "stdout",
     "output_type": "stream",
     "text": [
      "torch.Size([794, 12])\n",
      "torch.Size([794]) torch.Size([794])\n"
     ]
    }
   ],
   "source": [
    "print(pred.size())\n",
    "\n",
    "import torch.nn.functional as F\n",
    "probs, cls = pred.max(dim=1)\n",
    "print(probs.size(), cls.size())"
   ]
  },
  {
   "cell_type": "code",
   "execution_count": 15,
   "metadata": {
    "scrolled": true
   },
   "outputs": [
    {
     "name": "stdout",
     "output_type": "stream",
     "text": [
      "['Black-grass', 'Charlock', 'Cleavers', 'Common Chickweed', 'Common wheat', 'Fat Hen', 'Loose Silky-bent', 'Maize', 'Scentless Mayweed', 'Shepherds Purse', 'Small-flowered Cranesbill', 'Sugar beet']\n",
      "{0: 'Black-grass', 1: 'Charlock', 2: 'Cleavers', 3: 'Common Chickweed', 4: 'Common wheat', 5: 'Fat Hen', 6: 'Loose Silky-bent', 7: 'Maize', 8: 'Scentless Mayweed', 9: 'Shepherds Purse', 10: 'Small-flowered Cranesbill', 11: 'Sugar beet'}\n"
     ]
    }
   ],
   "source": [
    "labels = {}\n",
    "\n",
    "for line in open('/home/Yi/seeds/weights/labels.txt').readlines():\n",
    "    segs = line.strip().split(' ')\n",
    "    i = int(segs[0])\n",
    "    cat = ' '.join(segs[1:])\n",
    "    labels[i] = cat\n",
    "    \n",
    "print(CATEGORIES)\n",
    "print(labels)\n",
    "\n",
    "submit_id = '11061835'\n",
    "output_path = \"/home/Yi/seeds/submits/{}.csv\".format(submit_id)\n",
    "with open(output_path, 'w') as f:\n",
    "    f.write(\"file,species\\n\")\n",
    "    for x,i in zip(test_paths, cls.cpu().numpy()):\n",
    "        f.write(\"{},{}\\n\".format(os.path.basename(x), labels[i]))"
   ]
  },
  {
   "cell_type": "code",
   "execution_count": 16,
   "metadata": {},
   "outputs": [
    {
     "name": "stdout",
     "output_type": "stream",
     "text": [
      "Counter({6: 121, 3: 110, 8: 91, 11: 85, 10: 84, 5: 64, 1: 61, 2: 39, 9: 38, 7: 37, 0: 32, 4: 32})\n"
     ]
    }
   ],
   "source": [
    "from collections import Counter\n",
    "c = Counter(cls.cpu().numpy())\n",
    "print(c)"
   ]
  },
  {
   "cell_type": "code",
   "execution_count": null,
   "metadata": {},
   "outputs": [],
   "source": [
    "import shutil\n",
    "\n",
    "dir_path = lambda x: \"/home/Yi/seeds/outs/{}\".format(x.replace(' ', '_'))\n",
    "for x in CATEGORIES:\n",
    "    os.system(\"rm -r {}\".format(dir_path(x)))\n",
    "    os.mkdir(dir_path(x))\n",
    "\n",
    "for x,i in zip(test_paths, cls.cpu().numpy()):\n",
    "    c = labels[i]\n",
    "    shutil.copy(x, \"{}/{}\".format(dir_path(c), os.path.basename(x)))"
   ]
  },
  {
   "cell_type": "code",
   "execution_count": null,
   "metadata": {},
   "outputs": [],
   "source": [
    "def create_mask_for_plant(image):\n",
    "    image_hsv = cv2.cvtColor(image, cv2.COLOR_BGR2HSV)\n",
    "\n",
    "    sensitivity = 40\n",
    "    lower_hsv = np.array([60 - sensitivity, 100, 50])\n",
    "    upper_hsv = np.array([60 + sensitivity, 255, 255])\n",
    "\n",
    "    mask = cv2.inRange(image_hsv, lower_hsv, upper_hsv)\n",
    "    kernel = cv2.getStructuringElement(cv2.MORPH_ELLIPSE, (11,11))\n",
    "    mask = cv2.morphologyEx(mask, cv2.MORPH_CLOSE, kernel)\n",
    "    \n",
    "    return mask\n",
    "\n",
    "def segment_plant(image):\n",
    "    mask = create_mask_for_plant(image)\n",
    "    output = cv2.bitwise_and(image, image, mask = mask)\n",
    "    return output\n",
    "\n",
    "def sharpen_image(image):\n",
    "    image_blurred = cv2.GaussianBlur(image, (0, 0), 3)\n",
    "    image_sharp = cv2.addWeighted(image, 1.5, image_blurred, -0.5, 0)\n",
    "    return image_sharp\n",
    "\n",
    "\n",
    "import cv2\n",
    "image = cv2.imread(train_paths[9])\n",
    "\n",
    "\n",
    "image_mask = create_mask_for_plant(image)\n",
    "image_segmented = segment_plant(image)\n",
    "image_sharpen = sharpen_image(image_segmented)\n",
    "\n",
    "\n",
    "fig, axs = plt.subplots(1, 4, figsize=(20, 20))\n",
    "axs[0].imshow(cv2.cvtColor(image, cv2.COLOR_BGR2RGB))\n",
    "axs[1].imshow(image_mask)\n",
    "axs[2].imshow(image_segmented)\n",
    "axs[3].imshow(image_sharpen)"
   ]
  },
  {
   "cell_type": "code",
   "execution_count": null,
   "metadata": {},
   "outputs": [],
   "source": [
    "lowThreshold = 0\n",
    "max_lowThreshold = 100\n",
    "ratio = 3\n",
    "kernel_size = 3\n",
    "\n",
    "def CannyThreshold(img, lowThreshold):\n",
    "    gray = cv2.cvtColor(img,cv2.COLOR_BGR2GRAY)\n",
    "    detected_edges = cv2.GaussianBlur(gray,(3,3),0)\n",
    "    detected_edges = cv2.Canny(detected_edges, lowThreshold, lowThreshold*ratio, apertureSize = kernel_size)\n",
    "    dst = cv2.bitwise_and(img,img,mask = detected_edges)  # just add some colours to edges from original image.\n",
    "    return dst\n",
    "\n",
    "dst = CannyThreshold(image, 0)\n",
    "\n",
    "# fig, axs = plt.subplots(1, 4, figsize=(20, 20))\n",
    "# axs[0].imshow(cv2.cvtColor(image, cv2.COLOR_BGR2RGB))\n",
    "# axs[1].imshow(image_mask)\n",
    "# axs[2].imshow(image_segmented)\n",
    "# axs[3].imshow(image_sharpen)\n",
    "\n",
    "plt.imshow(dst)\n",
    "plt.show()"
   ]
  }
 ],
 "metadata": {
  "kernelspec": {
   "display_name": "Python 2",
   "language": "python",
   "name": "python2"
  },
  "language_info": {
   "codemirror_mode": {
    "name": "ipython",
    "version": 2
   },
   "file_extension": ".py",
   "mimetype": "text/x-python",
   "name": "python",
   "nbconvert_exporter": "python",
   "pygments_lexer": "ipython2",
   "version": "2.7.15"
  }
 },
 "nbformat": 4,
 "nbformat_minor": 2
}
